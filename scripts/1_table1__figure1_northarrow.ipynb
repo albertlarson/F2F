{
 "cells": [
  {
   "cell_type": "code",
   "execution_count": null,
   "id": "d1feaa97-93ac-4a6c-8646-a6a1958e8fa3",
   "metadata": {},
   "outputs": [],
   "source": [
    "import geopandas as gp"
   ]
  },
  {
   "cell_type": "code",
   "execution_count": 3,
   "id": "adc4f9cf-b723-4481-b5fb-0de83d5bfdc0",
   "metadata": {},
   "outputs": [],
   "source": [
    "# here we use the python package geopandas to open \"shapefiles\" of each basin we are studying\n",
    "# https://geopandas.org/en/stable/\n",
    "\n",
    "# shapefiles are a geographic information system vector file format \n",
    "# links to source of each shapefile are provided inline\n",
    "\n",
    "br = gp.read_file('../data/smap__part1__archived/bear_river/bearrivshp/brfromhuc12.shp') ## https://bearriverinfo.org/files-ou/dataset-downloads/brfromhuc12.zip\n",
    "co = gp.read_file('../data/smap__part1__archived/colorado/shapefile/CRBasin_PacificInstitute.shp') ## source https://www.arcgis.com/home/item.html?id=d1706d2cbf824c0eba9ef90d2a2551b1\n",
    "ct = gp.read_file('../data/smap__part1__archived/connecticut/ct_shp/wbd_ctriver.shp') # https://www.sciencebase.gov/catalog/item/533340c2e4b0615fe7d2b6ee\n",
    "ms = gp.read_file('../data/smap__part1__archived/mississippi/shapefile/Miss_RiverBasin.shp') # https://www.sciencebase.gov/catalog/item/55de04d5e4b0518e354dfcf8"
   ]
  },
  {
   "cell_type": "code",
   "execution_count": 4,
   "id": "6d606b89-0cc3-4ad3-a6b9-46cd078c9e6c",
   "metadata": {},
   "outputs": [
    {
     "data": {
      "text/html": [
       "<div>\n",
       "<style scoped>\n",
       "    .dataframe tbody tr th:only-of-type {\n",
       "        vertical-align: middle;\n",
       "    }\n",
       "\n",
       "    .dataframe tbody tr th {\n",
       "        vertical-align: top;\n",
       "    }\n",
       "\n",
       "    .dataframe thead th {\n",
       "        text-align: right;\n",
       "    }\n",
       "</style>\n",
       "<table border=\"1\" class=\"dataframe\">\n",
       "  <thead>\n",
       "    <tr style=\"text-align: right;\">\n",
       "      <th></th>\n",
       "      <th>ID</th>\n",
       "      <th>AREA</th>\n",
       "      <th>PERIMETER</th>\n",
       "      <th>NAME</th>\n",
       "      <th>AREA_KM2</th>\n",
       "      <th>AREA_MI2</th>\n",
       "      <th>geometry</th>\n",
       "    </tr>\n",
       "  </thead>\n",
       "  <tbody>\n",
       "    <tr>\n",
       "      <th>0</th>\n",
       "      <td>1</td>\n",
       "      <td>1.942648e+10</td>\n",
       "      <td>1.154298e+06</td>\n",
       "      <td>Bear River Watershed</td>\n",
       "      <td>19426.4812</td>\n",
       "      <td>7500.6063</td>\n",
       "      <td>POLYGON ((516825.377 4656382.410, 516827.238 4...</td>\n",
       "    </tr>\n",
       "  </tbody>\n",
       "</table>\n",
       "</div>"
      ],
      "text/plain": [
       "   ID          AREA     PERIMETER                  NAME    AREA_KM2  \\\n",
       "0   1  1.942648e+10  1.154298e+06  Bear River Watershed  19426.4812   \n",
       "\n",
       "    AREA_MI2                                           geometry  \n",
       "0  7500.6063  POLYGON ((516825.377 4656382.410, 516827.238 4...  "
      ]
     },
     "execution_count": 4,
     "metadata": {},
     "output_type": "execute_result"
    }
   ],
   "source": [
    "# calling the variable br (short for bear river) shows pertinent information about the shapefile\n",
    "# area information is provided, but it would be better if it was in acreage. \n",
    "br"
   ]
  },
  {
   "cell_type": "code",
   "execution_count": 5,
   "id": "99b955d7-4124-4462-b52e-527679950561",
   "metadata": {},
   "outputs": [],
   "source": [
    "# here's a simple function that converts square miles into acres\n",
    "\n",
    "def square_miles_to_acres(x):\n",
    "    return x*640"
   ]
  },
  {
   "cell_type": "code",
   "execution_count": 6,
   "id": "b84c78c5-880d-459d-abf2-da992deb1a76",
   "metadata": {},
   "outputs": [
    {
     "name": "stdout",
     "output_type": "stream",
     "text": [
      "bear river's acreage \n",
      "4800388.03\n"
     ]
    }
   ],
   "source": [
    "# now we take the simple function and use it to convert area in square miles to acres\n",
    "\n",
    "x = square_miles_to_acres(br.AREA_MI2) #calling br's AREA_KM2 column.\n",
    "print(f\"bear river's acreage \\n{round(x[0],2)}\")"
   ]
  },
  {
   "cell_type": "code",
   "execution_count": 7,
   "id": "d8dbe416-2a16-40ba-af94-dfedf3f4afc4",
   "metadata": {},
   "outputs": [
    {
     "data": {
      "text/html": [
       "<div>\n",
       "<style scoped>\n",
       "    .dataframe tbody tr th:only-of-type {\n",
       "        vertical-align: middle;\n",
       "    }\n",
       "\n",
       "    .dataframe tbody tr th {\n",
       "        vertical-align: top;\n",
       "    }\n",
       "\n",
       "    .dataframe thead th {\n",
       "        text-align: right;\n",
       "    }\n",
       "</style>\n",
       "<table border=\"1\" class=\"dataframe\">\n",
       "  <thead>\n",
       "    <tr style=\"text-align: right;\">\n",
       "      <th></th>\n",
       "      <th>Part</th>\n",
       "      <th>Shape_Leng</th>\n",
       "      <th>Shape_Area</th>\n",
       "      <th>Area_mi2</th>\n",
       "      <th>geometry</th>\n",
       "    </tr>\n",
       "  </thead>\n",
       "  <tbody>\n",
       "    <tr>\n",
       "      <th>0</th>\n",
       "      <td>Lower Basin</td>\n",
       "      <td>50.662839</td>\n",
       "      <td>36.089429</td>\n",
       "      <td>143427.00</td>\n",
       "      <td>POLYGON ((-109.87814 31.32732, -109.96628 31.3...</td>\n",
       "    </tr>\n",
       "    <tr>\n",
       "      <th>1</th>\n",
       "      <td>Upper Basin</td>\n",
       "      <td>35.856205</td>\n",
       "      <td>29.487600</td>\n",
       "      <td>109632.00</td>\n",
       "      <td>POLYGON ((-109.81981 43.37415, -109.81105 43.3...</td>\n",
       "    </tr>\n",
       "    <tr>\n",
       "      <th>2</th>\n",
       "      <td>Delta</td>\n",
       "      <td>6.838396</td>\n",
       "      <td>1.258540</td>\n",
       "      <td>5205.81</td>\n",
       "      <td>POLYGON ((-114.73121 32.68664, -114.73948 32.6...</td>\n",
       "    </tr>\n",
       "    <tr>\n",
       "      <th>3</th>\n",
       "      <td>Headwaters</td>\n",
       "      <td>3.655091</td>\n",
       "      <td>0.260859</td>\n",
       "      <td>1070.57</td>\n",
       "      <td>POLYGON ((-109.87814 31.32732, -109.87733 31.3...</td>\n",
       "    </tr>\n",
       "  </tbody>\n",
       "</table>\n",
       "</div>"
      ],
      "text/plain": [
       "          Part  Shape_Leng  Shape_Area   Area_mi2  \\\n",
       "0  Lower Basin   50.662839   36.089429  143427.00   \n",
       "1  Upper Basin   35.856205   29.487600  109632.00   \n",
       "2        Delta    6.838396    1.258540    5205.81   \n",
       "3   Headwaters    3.655091    0.260859    1070.57   \n",
       "\n",
       "                                            geometry  \n",
       "0  POLYGON ((-109.87814 31.32732, -109.96628 31.3...  \n",
       "1  POLYGON ((-109.81981 43.37415, -109.81105 43.3...  \n",
       "2  POLYGON ((-114.73121 32.68664, -114.73948 32.6...  \n",
       "3  POLYGON ((-109.87814 31.32732, -109.87733 31.3...  "
      ]
     },
     "execution_count": 7,
     "metadata": {},
     "output_type": "execute_result"
    }
   ],
   "source": [
    "# looking at the colorado basin shapefile, it is a bit more of a complex file. there are\n",
    "# several shapes within the one shapefile. \n",
    "\n",
    "co"
   ]
  },
  {
   "cell_type": "code",
   "execution_count": 8,
   "id": "8f08c8f4-cc36-4d35-af3b-1e74eaf2cfac",
   "metadata": {},
   "outputs": [
    {
     "name": "stdout",
     "output_type": "stream",
     "text": [
      "colorado river's acreage \n",
      "165974643.2\n"
     ]
    }
   ],
   "source": [
    "# for our purposes, let's sum the areas in square miles, and then convert to acres.\n",
    "x = sum(co.Area_mi2)\n",
    "y = square_miles_to_acres(x)\n",
    "print(f\"colorado river's acreage \\n{y}\")"
   ]
  },
  {
   "cell_type": "code",
   "execution_count": 9,
   "id": "917ef2d6-76bb-46df-85a8-93846039f9d3",
   "metadata": {},
   "outputs": [],
   "source": [
    "# at this point, i should probably note that i am continuously cycling through x and y variables.\n",
    "# no long term storage...  just using the variables temporarily to print out what i need."
   ]
  },
  {
   "cell_type": "code",
   "execution_count": 10,
   "id": "0c0770be-a009-4996-a050-4501b659ccd0",
   "metadata": {},
   "outputs": [
    {
     "data": {
      "text/html": [
       "<div>\n",
       "<style scoped>\n",
       "    .dataframe tbody tr th:only-of-type {\n",
       "        vertical-align: middle;\n",
       "    }\n",
       "\n",
       "    .dataframe tbody tr th {\n",
       "        vertical-align: top;\n",
       "    }\n",
       "\n",
       "    .dataframe thead th {\n",
       "        text-align: right;\n",
       "    }\n",
       "</style>\n",
       "<table border=\"1\" class=\"dataframe\">\n",
       "  <thead>\n",
       "    <tr style=\"text-align: right;\">\n",
       "      <th></th>\n",
       "      <th>OBJECTID</th>\n",
       "      <th>Gaz_ID</th>\n",
       "      <th>Area_Acres</th>\n",
       "      <th>Area_SqKm</th>\n",
       "      <th>States</th>\n",
       "      <th>LoadDate</th>\n",
       "      <th>HUC_4</th>\n",
       "      <th>HU_4_Name</th>\n",
       "      <th>Shape_Leng</th>\n",
       "      <th>Shape_Area</th>\n",
       "      <th>Hectares</th>\n",
       "      <th>geometry</th>\n",
       "    </tr>\n",
       "  </thead>\n",
       "  <tbody>\n",
       "    <tr>\n",
       "      <th>0</th>\n",
       "      <td>3</td>\n",
       "      <td>0</td>\n",
       "      <td>0.0</td>\n",
       "      <td>0.0</td>\n",
       "      <td>None</td>\n",
       "      <td>None</td>\n",
       "      <td>0108</td>\n",
       "      <td>Connecticut</td>\n",
       "      <td>18.277795</td>\n",
       "      <td>3.226457</td>\n",
       "      <td>2.910335e+06</td>\n",
       "      <td>POLYGON ((1915810.520 2729742.912, 1915782.237...</td>\n",
       "    </tr>\n",
       "  </tbody>\n",
       "</table>\n",
       "</div>"
      ],
      "text/plain": [
       "   OBJECTID  Gaz_ID  Area_Acres  Area_SqKm States LoadDate HUC_4    HU_4_Name  \\\n",
       "0         3       0         0.0        0.0   None     None  0108  Connecticut   \n",
       "\n",
       "   Shape_Leng  Shape_Area      Hectares  \\\n",
       "0   18.277795    3.226457  2.910335e+06   \n",
       "\n",
       "                                            geometry  \n",
       "0  POLYGON ((1915810.520 2729742.912, 1915782.237...  "
      ]
     },
     "execution_count": 10,
     "metadata": {},
     "output_type": "execute_result"
    }
   ],
   "source": [
    "ct"
   ]
  },
  {
   "cell_type": "code",
   "execution_count": 11,
   "id": "d98c96fb-7856-4c29-a6e2-1f5f746a4058",
   "metadata": {},
   "outputs": [],
   "source": [
    "def hectares_to_acres(x):\n",
    "    return x*2.47105"
   ]
  },
  {
   "cell_type": "code",
   "execution_count": 12,
   "id": "cb1446e7-d0c1-420f-9405-f0c1cd1a7a5f",
   "metadata": {},
   "outputs": [
    {
     "name": "stdout",
     "output_type": "stream",
     "text": [
      "connecticut river's acreage: \n",
      "7191583.334713807\n"
     ]
    }
   ],
   "source": [
    "x = hectares_to_acres(ct.Hectares[0])\n",
    "print(f\"connecticut river's acreage: \\n{x}\")"
   ]
  },
  {
   "cell_type": "code",
   "execution_count": 13,
   "id": "63aef95b-ea42-42a6-8dfa-77869efe10a3",
   "metadata": {},
   "outputs": [
    {
     "data": {
      "text/html": [
       "<div>\n",
       "<style scoped>\n",
       "    .dataframe tbody tr th:only-of-type {\n",
       "        vertical-align: middle;\n",
       "    }\n",
       "\n",
       "    .dataframe tbody tr th {\n",
       "        vertical-align: top;\n",
       "    }\n",
       "\n",
       "    .dataframe thead th {\n",
       "        text-align: right;\n",
       "    }\n",
       "</style>\n",
       "<table border=\"1\" class=\"dataframe\">\n",
       "  <thead>\n",
       "    <tr style=\"text-align: right;\">\n",
       "      <th></th>\n",
       "      <th>MRB</th>\n",
       "      <th>area_mi2</th>\n",
       "      <th>Shape_Leng</th>\n",
       "      <th>Shape_Area</th>\n",
       "      <th>geometry</th>\n",
       "    </tr>\n",
       "  </thead>\n",
       "  <tbody>\n",
       "    <tr>\n",
       "      <th>0</th>\n",
       "      <td>1</td>\n",
       "      <td>1.269499e+06</td>\n",
       "      <td>1.831555e+07</td>\n",
       "      <td>3.287987e+12</td>\n",
       "      <td>POLYGON ((-1030314.401 3039232.393, -1030299.8...</td>\n",
       "    </tr>\n",
       "  </tbody>\n",
       "</table>\n",
       "</div>"
      ],
      "text/plain": [
       "   MRB      area_mi2    Shape_Leng    Shape_Area  \\\n",
       "0    1  1.269499e+06  1.831555e+07  3.287987e+12   \n",
       "\n",
       "                                            geometry  \n",
       "0  POLYGON ((-1030314.401 3039232.393, -1030299.8...  "
      ]
     },
     "execution_count": 13,
     "metadata": {},
     "output_type": "execute_result"
    }
   ],
   "source": [
    "ms"
   ]
  },
  {
   "cell_type": "code",
   "execution_count": 14,
   "id": "0ad3d5f2-3021-4312-b713-47b84ff0292c",
   "metadata": {},
   "outputs": [],
   "source": [
    "import time"
   ]
  },
  {
   "cell_type": "code",
   "execution_count": 15,
   "id": "fc2ef0fb-2b60-4722-8614-ca8c6cdc9201",
   "metadata": {},
   "outputs": [
    {
     "name": "stdout",
     "output_type": "stream",
     "text": [
      "0    8.124793e+08\n",
      "Name: area_mi2, dtype: float64\n",
      "\n",
      "\n",
      "*\t\t*\t\t*\n",
      "\t*\n",
      "\n",
      "\t\tSPACE\t*\t\t*\n",
      "\t*\n",
      "\t\t\t\t*\n",
      "*\t\t\t*\n",
      "\n",
      "\n",
      "mississippi river basin's acreage: 812479349.4592\n"
     ]
    }
   ],
   "source": [
    "x = square_miles_to_acres(ms.area_mi2)\n",
    "print(x)\n",
    "time.sleep(2)\n",
    "# just want the number... \n",
    "# geopandas wants you to call the row number, which is the result number\n",
    "# remember back to the colorado basin with multiple shapes in one shapefile.\n",
    "\n",
    "# first let's give this some space\n",
    "print('\\n\\n*\\t\\t*\\t\\t*\\n\\t*\\n\\n\\t\\tSPACE\\t*\\t\\t*\\n\\t*\\n\\t\\t\\t\\t*\\n*\\t\\t\\t*\\n\\n')\n",
    "\n",
    "time.sleep(2)\n",
    "# f-string\n",
    "print(f\"mississippi river basin's acreage: {x[0]}\")\n",
    "# see, the number is on the same line when you call [0]"
   ]
  },
  {
   "cell_type": "code",
   "execution_count": null,
   "id": "cf9b1ccb-b6e4-4630-a7d2-c50ae97f7397",
   "metadata": {},
   "outputs": [],
   "source": []
  },
  {
   "cell_type": "code",
   "execution_count": null,
   "id": "d5d36fdb-1182-4323-81e5-f429bb2feb80",
   "metadata": {},
   "outputs": [],
   "source": []
  },
  {
   "cell_type": "code",
   "execution_count": null,
   "id": "cc36e6cf-79f6-4386-aa6a-13b9a50387e1",
   "metadata": {},
   "outputs": [],
   "source": [
    "## below one stops and looks at the projected coordinate systems of the shapefiles.\n",
    "# different agencies present their boundary data in sometimes unique ways.\n",
    "# adherence to a particular standard seems to be challenging.\n",
    "# the data as we saw previously is not uniform and might be called messy."
   ]
  },
  {
   "cell_type": "code",
   "execution_count": 16,
   "id": "99a41844-2c35-45d7-8d5e-c49a26ba2927",
   "metadata": {},
   "outputs": [
    {
     "data": {
      "text/plain": [
       "<Derived Projected CRS: EPSG:26912>\n",
       "Name: NAD83 / UTM zone 12N\n",
       "Axis Info [cartesian]:\n",
       "- E[east]: Easting (metre)\n",
       "- N[north]: Northing (metre)\n",
       "Area of Use:\n",
       "- name: North America - between 114°W and 108°W - onshore and offshore. Canada - Alberta; Northwest Territories; Nunavut; Saskatchewan. United States (USA) - Arizona; Colorado; Idaho; Montana; New Mexico; Utah; Wyoming.\n",
       "- bounds: (-114.0, 31.33, -108.0, 84.0)\n",
       "Coordinate Operation:\n",
       "- name: UTM zone 12N\n",
       "- method: Transverse Mercator\n",
       "Datum: North American Datum 1983\n",
       "- Ellipsoid: GRS 1980\n",
       "- Prime Meridian: Greenwich"
      ]
     },
     "execution_count": 16,
     "metadata": {},
     "output_type": "execute_result"
    }
   ],
   "source": [
    "br.crs\n",
    "\n",
    "# properly states EPSG:26912 which works as predicted in figure plotting script.\n",
    "# this is the best documented coordinate reference system of the four shown."
   ]
  },
  {
   "cell_type": "code",
   "execution_count": 17,
   "id": "4d0fff55-3fed-4122-9b7a-c4f235bafee5",
   "metadata": {},
   "outputs": [
    {
     "data": {
      "text/plain": [
       "<Geographic 2D CRS: EPSG:4326>\n",
       "Name: WGS 84\n",
       "Axis Info [ellipsoidal]:\n",
       "- Lat[north]: Geodetic latitude (degree)\n",
       "- Lon[east]: Geodetic longitude (degree)\n",
       "Area of Use:\n",
       "- name: World.\n",
       "- bounds: (-180.0, -90.0, 180.0, 90.0)\n",
       "Datum: World Geodetic System 1984 ensemble\n",
       "- Ellipsoid: WGS 84\n",
       "- Prime Meridian: Greenwich"
      ]
     },
     "execution_count": 17,
     "metadata": {},
     "output_type": "execute_result"
    }
   ],
   "source": [
    "co.crs\n",
    "\n",
    "# calls EPSG:4326 which is unprojected coordinate system (matrix of rows and columns equally spaced)\n",
    "# it is not necessarily equal to plate carree but acceptable for the purpose of approximating boundaries for figure 1.\n",
    "# at high latitudes, there are definitely distortions to looking @ EPSG:4326 / plate carree type approach."
   ]
  },
  {
   "cell_type": "code",
   "execution_count": 18,
   "id": "7630bb52-d0eb-4f81-a334-d7f8efc2e8d3",
   "metadata": {},
   "outputs": [
    {
     "data": {
      "text/plain": [
       "<Derived Projected CRS: PROJCS[\"NAD_1983_Albers\",GEOGCS[\"NAD83\",DATUM[\"Nor ...>\n",
       "Name: NAD_1983_Albers\n",
       "Axis Info [cartesian]:\n",
       "- [east]: Easting (metre)\n",
       "- [north]: Northing (metre)\n",
       "Area of Use:\n",
       "- undefined\n",
       "Coordinate Operation:\n",
       "- name: unnamed\n",
       "- method: Albers Equal Area\n",
       "Datum: North American Datum 1983\n",
       "- Ellipsoid: GRS 1980\n",
       "- Prime Meridian: Greenwich"
      ]
     },
     "execution_count": 18,
     "metadata": {},
     "output_type": "execute_result"
    }
   ],
   "source": [
    "ct.crs\n",
    "\n",
    "# does not call out EPSG, but stated as albers and nad 1983 (north american datum, focus on north america)\n",
    "# and location is in United States so EPSG:5070 fits"
   ]
  },
  {
   "cell_type": "code",
   "execution_count": 19,
   "id": "164d9e71-4cba-44ca-88bb-90310259dd67",
   "metadata": {},
   "outputs": [
    {
     "data": {
      "text/plain": [
       "<Derived Projected CRS: ESRI:102039>\n",
       "Name: USA_Contiguous_Albers_Equal_Area_Conic_USGS_version\n",
       "Axis Info [cartesian]:\n",
       "- [east]: Easting (metre)\n",
       "- [north]: Northing (metre)\n",
       "Area of Use:\n",
       "- undefined\n",
       "Coordinate Operation:\n",
       "- name: unnamed\n",
       "- method: Albers Equal Area\n",
       "Datum: North American Datum 1983\n",
       "- Ellipsoid: GRS 1980\n",
       "- Prime Meridian: Greenwich"
      ]
     },
     "execution_count": 19,
     "metadata": {},
     "output_type": "execute_result"
    }
   ],
   "source": [
    "ms.crs\n",
    "\n",
    "# calls outs ESRI number, which is corporation behind ArcGIS and ArcGIS Pro software.\n",
    "# like connecticut, albers and NAD1983 are stated, so 5070 fits"
   ]
  },
  {
   "cell_type": "code",
   "execution_count": 20,
   "id": "4417760e-1fdc-42e1-a97d-d36bf6acb3cb",
   "metadata": {},
   "outputs": [
    {
     "data": {
      "text/plain": [
       "0    POLYGON ((516825.377 4656382.410, 516827.238 4...\n",
       "Name: geometry, dtype: geometry"
      ]
     },
     "execution_count": 20,
     "metadata": {},
     "output_type": "execute_result"
    }
   ],
   "source": [
    "br.geometry"
   ]
  },
  {
   "cell_type": "code",
   "execution_count": null,
   "id": "c130fdfa-5e95-4ec0-8d20-7ba9f06ea583",
   "metadata": {},
   "outputs": [],
   "source": [
    "# timing the script\n",
    "\n",
    "t0 = time.time() # marks start\n",
    "\n",
    "# matplotlib pyplot plotting interface, supposed to synthesize MATLAB plots\n",
    "import matplotlib.pyplot as plt\n",
    "\n",
    "# for creating the legend\n",
    "import matplotlib.patches as mpatches\n",
    "\n",
    "#cartopy coordinate reference system\n",
    "import cartopy.crs as ccrs\n",
    "import cartopy.feature as cfeature\n",
    "\n",
    "#changes typeface\n",
    "plt.rcParams[\"font.family\"] = \"DejaVu Serif\"\n",
    "plt.rcParams[\"font.weight\"] = \"bold\"\n",
    "plt.rcParams['figure.dpi'] = 100\n",
    "\n",
    "\n",
    "points_ms = [-91.206944, 30.429167]\n",
    "points_ct = [-72.5531454, 41.5417656]\n",
    "points_co = [-114.5149494, 32.8122666]\n",
    "points_br = [-111.0538022,42.21104338]\n",
    "points = [points_ct,points_ms,points_co,points_br]\n",
    "\n",
    "fig = plt.figure(figsize=(15,15)) #create a figure object, blank square on the screen\n",
    "ax = fig.add_subplot(1, 1, 1, projection=ccrs.LambertConformal()) #creates single plot for the blank square, states the coordinate system that all everything will be plotted with\n",
    "\n",
    "# make the map global rather than have it zoom in to\n",
    "# the extents of any plotted data\n",
    "ax.set_extent([-120, -74, 21, 50])\n",
    "ax.coastlines() #adds coastlines\n",
    "ax.add_feature(cfeature.STATES,zorder=2) #states\n",
    "ax.add_feature(cfeature.LAND) #land\n",
    "ax.add_feature(cfeature.OCEAN) #ocean\n",
    "ax.add_geometries(br.geometry,crs=ccrs.epsg(26912),color='#2ca02c') #plots bear river, states what starting coordinate system for bear is (26912), picks plot color\n",
    "ax.add_geometries(co.geometry,crs=ccrs.PlateCarree(),color='#d62728')# \"\" colorado \"\"\" \"\" \"\" \"\"\" \"\" \"\"\"\"\" \"\" \"\"\"\"\" \"\" \"\"\"\"\" \"\" \"\"\"\"\" \"\" (Plate Carree)\"\"\"\"\" \"\" \"\"\"\"\" \"\" \"\"\n",
    "ax.add_geometries(ct.geometry,crs=ccrs.epsg(5070),color='#e377c2')# \"\" connecticut \"\"\"\"\" \"\" \"\"\"\"\" \"\" \"\"\"\"\" \"\" \"\"\"\"\" \"\" \"\"\"\"\" \"\" \"\"\"\"\" \"\"  5070 \"\" \"\" \"\"\n",
    "ax.add_geometries(ms.geometry,crs=ccrs.epsg(5070),color='#17becf')# \"\" mississippi\"\"\" \"\" \"\"\"\"\" \"\" \"\"\"\"\" \"\" \"\"\"\"\" \"\" \"\"\"\"\" \"\" \"\"\"\"\" \"\" \"\"\"\"\" \"\" 5070 \"\"\"\"\" \"\" \"\"\n",
    "ax.scatter([i[0] for i in points],[i[1] for i in points],marker='o',s=200,c='black',transform=ccrs.PlateCarree(),zorder=50)\n",
    "colorado = mpatches.Patch(color='#d62728', label='Colorado') #creates legend item, specifies color\n",
    "bearriver = mpatches.Patch(color='#2ca02c', label='Bear')#creates legend item, specifies color\n",
    "connecticut = mpatches.Patch(color='#e377c2', label='Connecticut')#creates legend item, specifies color\n",
    "mississippi = mpatches.Patch(color='#17becf', label='Mississippi')#creates legend item, specifies color\n",
    "ax.legend(handles=[bearriver,colorado,connecticut,mississippi],loc='lower left',fontsize=20) # creates legend\n",
    "plt.savefig('basins_mapped_notitle.png',bbox_inches='tight') ## saves figure\n",
    "plt.show() ## plots figure\n",
    "\n",
    "t1 = time.time() # marks completion\n",
    "ccrs.epsg(26912)\n",
    "print(f\"time elapsed:\\t{round(t1-t0,3)}\")\n"
   ]
  },
  {
   "cell_type": "code",
   "execution_count": 70,
   "id": "431d2f0b-1a23-4578-a2c6-152359775771",
   "metadata": {},
   "outputs": [
    {
     "data": {
      "text/plain": [
       "[-72.5531454, 41.5417656]"
      ]
     },
     "execution_count": 70,
     "metadata": {},
     "output_type": "execute_result"
    }
   ],
   "source": [
    "points[0]"
   ]
  },
  {
   "cell_type": "code",
   "execution_count": 85,
   "id": "8ce7ae60-dfe3-4d62-b204-26fbfdbce1ce",
   "metadata": {},
   "outputs": [],
   "source": []
  },
  {
   "cell_type": "code",
   "execution_count": 93,
   "id": "bdf1f6f4-f5c9-45bc-ae51-fd75d842d1fa",
   "metadata": {},
   "outputs": [
    {
     "name": "stdout",
     "output_type": "stream",
     "text": [
      "DejaVu Sans\n",
      "DejaVu Sans Mono\n",
      "DejaVu Serif\n",
      "Latin Modern Math\n",
      "Latin Modern Mono\n",
      "Latin Modern Mono Caps\n",
      "Latin Modern Mono Light\n",
      "Latin Modern Mono Light Cond\n",
      "Latin Modern Mono Prop\n",
      "Latin Modern Mono Prop Light\n",
      "Latin Modern Mono Slanted\n",
      "Latin Modern Roman\n",
      "Latin Modern Roman Caps\n",
      "Latin Modern Roman Demi\n",
      "Latin Modern Roman Dunhill\n",
      "Latin Modern Roman Slanted\n",
      "Latin Modern Roman Unslanted\n",
      "Latin Modern Sans\n",
      "Latin Modern Sans Demi Cond\n",
      "Latin Modern Sans Quotation\n"
     ]
    }
   ],
   "source": [
    "# script to list available typefaces on your system\n",
    "\n",
    "import matplotlib.font_manager\n",
    "fpaths = matplotlib.font_manager.findSystemFonts()\n",
    "\n",
    "y = []\n",
    "for i in fpaths:\n",
    "    f = matplotlib.font_manager.get_font(i)\n",
    "    y.append(f.family_name)\n",
    "z = set(y)\n",
    "for x in sorted(z):\n",
    "    print(x)"
   ]
  },
  {
   "cell_type": "code",
   "execution_count": null,
   "id": "d43de684-d619-4190-8c57-b6f71ace927c",
   "metadata": {},
   "outputs": [],
   "source": []
  }
 ],
 "metadata": {
  "kernelspec": {
   "display_name": "Python (.conda-sm)",
   "language": "python",
   "name": "conda-env-.conda-sm-py"
  },
  "language_info": {
   "codemirror_mode": {
    "name": "ipython",
    "version": 3
   },
   "file_extension": ".py",
   "mimetype": "text/x-python",
   "name": "python",
   "nbconvert_exporter": "python",
   "pygments_lexer": "ipython3",
   "version": "3.9.13"
  }
 },
 "nbformat": 4,
 "nbformat_minor": 5
}
