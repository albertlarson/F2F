{
 "cells": [
  {
   "cell_type": "code",
   "execution_count": 1,
   "id": "b41c770d-8227-4003-8784-3008775fb945",
   "metadata": {},
   "outputs": [],
   "source": [
    "## used for examining the files should one need to."
   ]
  },
  {
   "cell_type": "code",
   "execution_count": 1,
   "id": "16cb8958-180a-4c45-843c-83cb4db9df5f",
   "metadata": {},
   "outputs": [],
   "source": [
    "\n",
    "import numpy as np\n",
    "import matplotlib.pyplot as plt\n",
    "import torch\n"
   ]
  },
  {
   "cell_type": "code",
   "execution_count": 4,
   "id": "a9f751ef-245c-46fe-afd8-f257f333dfc1",
   "metadata": {},
   "outputs": [
    {
     "data": {
      "text/plain": [
       "(2617,)"
      ]
     },
     "execution_count": 4,
     "metadata": {},
     "output_type": "execute_result"
    }
   ],
   "source": [
    "x = np.load('br_co_ct_ms_times.npy')\n",
    "x.shape"
   ]
  },
  {
   "cell_type": "code",
   "execution_count": 5,
   "id": "e767f3b4-f6bd-4b1b-987c-11efc0456bbd",
   "metadata": {},
   "outputs": [
    {
     "data": {
      "text/plain": [
       "numpy.datetime64('2022-03-01')"
      ]
     },
     "execution_count": 5,
     "metadata": {},
     "output_type": "execute_result"
    }
   ],
   "source": [
    "x[-1]"
   ]
  }
 ],
 "metadata": {
  "kernelspec": {
   "display_name": "Python (.conda-sm)",
   "language": "python",
   "name": "conda-env-.conda-sm-py"
  },
  "language_info": {
   "codemirror_mode": {
    "name": "ipython",
    "version": 3
   },
   "file_extension": ".py",
   "mimetype": "text/x-python",
   "name": "python",
   "nbconvert_exporter": "python",
   "pygments_lexer": "ipython3",
   "version": "3.9.12"
  }
 },
 "nbformat": 4,
 "nbformat_minor": 5
}
