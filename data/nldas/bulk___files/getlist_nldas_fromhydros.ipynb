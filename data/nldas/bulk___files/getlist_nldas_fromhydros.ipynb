{
 "cells": [
  {
   "cell_type": "code",
   "execution_count": 1,
   "id": "b3ed4e82-6502-4523-9bef-71696df579df",
   "metadata": {},
   "outputs": [],
   "source": [
    "from bs4 import BeautifulSoup as bs\n",
    "from bs4 import SoupStrainer\n",
    "only_contentUrl_tags = SoupStrainer(itemprop=\"contentUrl\")\n",
    "import numpy as np\n",
    "\n",
    "import glob\n",
    "import requests\n",
    "import os\n",
    "import sys\n",
    "import shutil"
   ]
  },
  {
   "cell_type": "code",
   "execution_count": 64,
   "id": "5e58bf8d-bb32-461f-983f-9d4ff7719d9c",
   "metadata": {},
   "outputs": [
    {
     "data": {
      "text/plain": [
       "'/work/albertl_uri_edu/fluxtoflow/nldas'"
      ]
     },
     "execution_count": 64,
     "metadata": {},
     "output_type": "execute_result"
    }
   ],
   "source": [
    "pwd"
   ]
  },
  {
   "cell_type": "code",
   "execution_count": 66,
   "id": "ad2aa025-1801-4adc-84c7-d5069f923810",
   "metadata": {},
   "outputs": [
    {
     "name": "stdout",
     "output_type": "stream",
     "text": [
      "[2015 2016 2017 2018 2019 2020 2021 2022]\n"
     ]
    }
   ],
   "source": [
    "addy = []\n",
    "year = np.arange(2015,2023,1)\n",
    "print(year)\n",
    "\n",
    "for x in year:\n",
    "    linktemp = f'https://hydro1.gesdisc.eosdis.nasa.gov/data/NLDAS/NLDAS_VIC0125_H.2.0/{x}'\n",
    "    addy.append(linktemp)\n"
   ]
  },
  {
   "cell_type": "code",
   "execution_count": 67,
   "id": "a1af938f-500f-4bed-ab86-7f6022db273c",
   "metadata": {},
   "outputs": [],
   "source": [
    "daylink = []\n",
    "day = np.arange(1,367,1)\n",
    "day1 = np.arange(1,366,1)\n",
    "day2 = np.arange(1,61,1)\n",
    "for idx,x in enumerate(addy):\n",
    "    if idx == 7:\n",
    "        for y in day2:\n",
    "            addy_withdaystemp = x + \"/\" + str(y).zfill(3)\n",
    "            daylink.append(addy_withdaystemp)\n",
    "    elif (idx == 1) | (idx == 5):\n",
    "        for y in day:\n",
    "            addy_withdaystemp = x + \"/\" + str(y).zfill(3)\n",
    "            daylink.append(addy_withdaystemp)\n",
    "    else:\n",
    "        for y in day1:\n",
    "            addy_withdaystemp = x + \"/\" + str(y).zfill(3)\n",
    "            # print(addy_withdaystemp)\n",
    "            daylink.append(addy_withdaystemp)  "
   ]
  },
  {
   "cell_type": "code",
   "execution_count": 58,
   "id": "4228c7b7-9ac7-4d96-bae8-84273ac0c58b",
   "metadata": {},
   "outputs": [
    {
     "data": {
      "text/plain": [
       "<Arrow [2022-05-03T11:05:10.282080-04:00]>"
      ]
     },
     "execution_count": 58,
     "metadata": {},
     "output_type": "execute_result"
    }
   ],
   "source": [
    "import arrow as a\n",
    "a.now('US/Eastern')\n"
   ]
  },
  {
   "cell_type": "code",
   "execution_count": 69,
   "id": "917fd057-a5f5-4911-b969-04a9cea5a41e",
   "metadata": {},
   "outputs": [
    {
     "name": "stdout",
     "output_type": "stream",
     "text": [
      "2022-05-03T11:59:26.461374-04:00\n",
      "2022-05-03T12:13:43.017317-04:00\n"
     ]
    }
   ],
   "source": [
    "print(a.now('US/Eastern'))\n",
    "nclist = []\n",
    "for x in daylink:\n",
    "    # print(x)\n",
    "    page = requests.get(x)\n",
    "    # print(page.text)\n",
    "    soup = bs(page.content,\"html.parser\")\n",
    "    results = soup.find_all(\"a\")\n",
    "    for y in results:\n",
    "        if y['href'][-3:] == '.nc':\n",
    "            nclist.append(x + \"/\" + y['href'])\n",
    "print(a.now('US/Eastern'))\n",
    "nclist = np.asarray(nclist)\n",
    "np.save('nclist.npy',nclist)"
   ]
  },
  {
   "cell_type": "code",
   "execution_count": null,
   "id": "e99534f9-e36f-4851-8ab0-d99f63890470",
   "metadata": {},
   "outputs": [],
   "source": [
    "### after list compilation "
   ]
  },
  {
   "cell_type": "code",
   "execution_count": 72,
   "id": "2eb2c68f-a2a1-4b7d-bff2-4c6b05575ab1",
   "metadata": {},
   "outputs": [],
   "source": [
    "#remove duplicates\n",
    "nclist = list(dict.fromkeys(nclist))"
   ]
  },
  {
   "cell_type": "code",
   "execution_count": 74,
   "id": "26852068-2009-4e55-b151-95d02709526c",
   "metadata": {},
   "outputs": [],
   "source": [
    "len(nclist)\n",
    "np.save('nclistnodupes.npy',nclist)"
   ]
  },
  {
   "cell_type": "code",
   "execution_count": 51,
   "id": "45809dbd-31db-4913-83cd-2714d7aae656",
   "metadata": {},
   "outputs": [
    {
     "data": {
      "text/plain": [
       "['NLDAS_VIC0125_H.A20150101.0000.020.nc',\n",
       " 'NLDAS_VIC0125_H.A20150101.0100.020.nc',\n",
       " 'NLDAS_VIC0125_H.A20150101.0200.020.nc',\n",
       " 'NLDAS_VIC0125_H.A20150101.0300.020.nc',\n",
       " 'NLDAS_VIC0125_H.A20150101.0400.020.nc',\n",
       " 'NLDAS_VIC0125_H.A20150101.0500.020.nc',\n",
       " 'NLDAS_VIC0125_H.A20150101.0600.020.nc',\n",
       " 'NLDAS_VIC0125_H.A20150101.0700.020.nc',\n",
       " 'NLDAS_VIC0125_H.A20150101.0800.020.nc',\n",
       " 'NLDAS_VIC0125_H.A20150101.0900.020.nc',\n",
       " 'NLDAS_VIC0125_H.A20150101.1000.020.nc',\n",
       " 'NLDAS_VIC0125_H.A20150101.1100.020.nc',\n",
       " 'NLDAS_VIC0125_H.A20150101.1200.020.nc',\n",
       " 'NLDAS_VIC0125_H.A20150101.1300.020.nc',\n",
       " 'NLDAS_VIC0125_H.A20150101.1400.020.nc',\n",
       " 'NLDAS_VIC0125_H.A20150101.1500.020.nc',\n",
       " 'NLDAS_VIC0125_H.A20150101.1600.020.nc',\n",
       " 'NLDAS_VIC0125_H.A20150101.1700.020.nc',\n",
       " 'NLDAS_VIC0125_H.A20150101.1800.020.nc',\n",
       " 'NLDAS_VIC0125_H.A20150101.1900.020.nc',\n",
       " 'NLDAS_VIC0125_H.A20150101.2000.020.nc',\n",
       " 'NLDAS_VIC0125_H.A20150101.2100.020.nc',\n",
       " 'NLDAS_VIC0125_H.A20150101.2200.020.nc',\n",
       " 'NLDAS_VIC0125_H.A20150101.2300.020.nc']"
      ]
     },
     "execution_count": 51,
     "metadata": {},
     "output_type": "execute_result"
    }
   ],
   "source": [
    "list(dict.fromkeys(nclist))"
   ]
  },
  {
   "cell_type": "code",
   "execution_count": 75,
   "id": "9263a78a-7155-4215-aec0-64cd324772ac",
   "metadata": {},
   "outputs": [
    {
     "data": {
      "text/plain": [
       "(62808,)"
      ]
     },
     "execution_count": 75,
     "metadata": {},
     "output_type": "execute_result"
    }
   ],
   "source": [
    "z0 = np.load('nclistnodupes.npy')\n",
    "z0.shape"
   ]
  },
  {
   "cell_type": "code",
   "execution_count": 91,
   "id": "2e4e1558-dc56-414d-bf7a-e4051d2b4986",
   "metadata": {},
   "outputs": [
    {
     "name": "stdout",
     "output_type": "stream",
     "text": [
      "62808\n",
      "['2015', '2016', '2017', '2018', '2019', '2020', '2021', '2022']\n"
     ]
    }
   ],
   "source": [
    "year = []\n",
    "for x in z0:\n",
    "    yeartemp = x[70:74]\n",
    "    year.append(yeartemp)\n",
    "year1 = list(dict.fromkeys(year))\n",
    "print(len(year))\n",
    "print(year1)"
   ]
  },
  {
   "cell_type": "code",
   "execution_count": 77,
   "id": "8a8bb350-cb91-4789-9980-e95451b8ad2b",
   "metadata": {},
   "outputs": [
    {
     "data": {
      "text/plain": [
       "'https://hydro1.gesdisc.eosdis.nasa.gov/data/NLDAS/NLDAS_VIC0125_H.2.0/2022/060/NLDAS_VIC0125_H.A20220301.2300.020.nc'"
      ]
     },
     "execution_count": 77,
     "metadata": {},
     "output_type": "execute_result"
    }
   ],
   "source": [
    "z0[-1]"
   ]
  },
  {
   "cell_type": "code",
   "execution_count": 78,
   "id": "45480715-5d60-4cf2-8278-13ce2d04c5ed",
   "metadata": {},
   "outputs": [
    {
     "data": {
      "text/plain": [
       "'https://hydro1.gesdisc.eosdis.nasa.gov/data/NLDAS/NLDAS_VIC0125_H.2.0/2018/155/NLDAS_VIC0125_H.A20180604.0000.020.nc'"
      ]
     },
     "execution_count": 78,
     "metadata": {},
     "output_type": "execute_result"
    }
   ],
   "source": [
    "z0[30000]"
   ]
  },
  {
   "cell_type": "code",
   "execution_count": 97,
   "id": "bff5a9c0-92ca-4bdd-a9e1-4e41c549be17",
   "metadata": {},
   "outputs": [],
   "source": [
    "for x in year1:\n",
    "    shutil.rmtree(f\"ncfiles/{x}\")"
   ]
  },
  {
   "cell_type": "code",
   "execution_count": 100,
   "id": "a036311e-bb4b-432c-b67e-9c40c9df4872",
   "metadata": {},
   "outputs": [
    {
     "data": {
      "text/plain": [
       "(62808,)"
      ]
     },
     "execution_count": 100,
     "metadata": {},
     "output_type": "execute_result"
    }
   ],
   "source": [
    "z0.shape"
   ]
  },
  {
   "cell_type": "code",
   "execution_count": 103,
   "id": "56e8831b-ccec-487a-b3f2-d190981c4e53",
   "metadata": {},
   "outputs": [],
   "source": [
    "lis = np.load('nclistnodupes.npy')"
   ]
  },
  {
   "cell_type": "code",
   "execution_count": 117,
   "id": "af9340d0-d694-4285-9622-f6b6d9b2a989",
   "metadata": {},
   "outputs": [
    {
     "data": {
      "text/plain": [
       "'NLDAS_VIC0125_H.A20150101.0000.020.nc'"
      ]
     },
     "execution_count": 117,
     "metadata": {},
     "output_type": "execute_result"
    }
   ],
   "source": [
    "lis[0][79:]"
   ]
  },
  {
   "cell_type": "code",
   "execution_count": 118,
   "id": "52b76868-b58a-418d-8064-9a70a88bfbc4",
   "metadata": {},
   "outputs": [
    {
     "data": {
      "text/plain": [
       "(3,)"
      ]
     },
     "execution_count": 118,
     "metadata": {},
     "output_type": "execute_result"
    }
   ],
   "source": [
    "lis = np.load('nclistnodupes.npy')[:3]\n",
    "lis.shape"
   ]
  },
  {
   "cell_type": "code",
   "execution_count": 124,
   "id": "a1716e1c-071d-430e-8a65-9d515b7708b0",
   "metadata": {},
   "outputs": [
    {
     "data": {
      "text/plain": [
       "'NLDAS_VIC0125_H.A20150101.0000.020.nc'"
      ]
     },
     "execution_count": 124,
     "metadata": {},
     "output_type": "execute_result"
    }
   ],
   "source": [
    "glob.glob('ncfiles/*.nc')[0][8:]"
   ]
  },
  {
   "cell_type": "code",
   "execution_count": 125,
   "id": "ebd745a3-11fe-4ab7-a6f3-a4c9c08757ab",
   "metadata": {},
   "outputs": [
    {
     "name": "stdout",
     "output_type": "stream",
     "text": [
      "dled: \t \n",
      " \t\n",
      "not dled: \t \n",
      " \t\n",
      "\t https://hydro1.gesdisc.eosdis.nasa.gov/data/NLDAS/NLDAS_VIC0125_H.2.0/2015/001/NLDAS_VIC0125_H.A20150101.0000.020.nc \t\n",
      "\t https://hydro1.gesdisc.eosdis.nasa.gov/data/NLDAS/NLDAS_VIC0125_H.2.0/2015/001/NLDAS_VIC0125_H.A20150101.0100.020.nc \t\n",
      "\t https://hydro1.gesdisc.eosdis.nasa.gov/data/NLDAS/NLDAS_VIC0125_H.2.0/2015/001/NLDAS_VIC0125_H.A20150101.0200.020.nc \t\n",
      "200\n",
      "200\n",
      "200\n",
      "dled: \t \n",
      " \t\n",
      "\t https://hydro1.gesdisc.eosdis.nasa.gov/data/NLDAS/NLDAS_VIC0125_H.2.0/2015/001/NLDAS_VIC0125_H.A20150101.0000.020.nc \t\n",
      "\t https://hydro1.gesdisc.eosdis.nasa.gov/data/NLDAS/NLDAS_VIC0125_H.2.0/2015/001/NLDAS_VIC0125_H.A20150101.0100.020.nc \t\n",
      "\t https://hydro1.gesdisc.eosdis.nasa.gov/data/NLDAS/NLDAS_VIC0125_H.2.0/2015/001/NLDAS_VIC0125_H.A20150101.0200.020.nc \t\n",
      "not dled: \t \n",
      " \t\n"
     ]
    },
    {
     "ename": "SystemExit",
     "evalue": "no more left to download",
     "output_type": "error",
     "traceback": [
      "An exception has occurred, use %tb to see the full traceback.\n",
      "\u001b[0;31mSystemExit\u001b[0m\u001b[0;31m:\u001b[0m no more left to download\n"
     ]
    },
    {
     "name": "stderr",
     "output_type": "stream",
     "text": [
      "/work/albertl_uri_edu/.conda/envs/sm/lib/python3.9/site-packages/IPython/core/interactiveshell.py:3377: UserWarning: To exit: use 'exit', 'quit', or Ctrl-D.\n",
      "  warn(\"To exit: use 'exit', 'quit', or Ctrl-D.\", stacklevel=1)\n"
     ]
    }
   ],
   "source": [
    "lis = np.load('nclistnodupes.npy')[:3]\n",
    "\n",
    "\n",
    "class SessionWithHeaderRedirection(requests.Session):\n",
    "    AUTH_HOST = 'urs.earthdata.nasa.gov'\n",
    "\n",
    "    def __init__(self, username, password):\n",
    "        super().__init__()\n",
    "        self.auth = (username, password)\n",
    "\n",
    "    # Overrides from the library to keep headers when redirected to or from the NASA auth host.\n",
    "    def rebuild_auth(self, prepared_request, response):\n",
    "        headers = prepared_request.headers\n",
    "        url = prepared_request.url\n",
    "        if 'Authorization' in headers:\n",
    "            original_parsed = requests.utils.urlparse(response.request.url)\n",
    "            redirect_parsed = requests.utils.urlparse(url)\n",
    "            if (original_parsed.hostname != redirect_parsed.hostname) and \\\n",
    "               redirect_parsed.hostname != self.AUTH_HOST and \\\n",
    "               original_parsed.hostname != self.AUTH_HOST:\n",
    "                del headers['Authorization']\n",
    "        return\n",
    "\n",
    "\n",
    "# create session with the user credentials that will be used to authenticate access to the data\n",
    "\n",
    "username=\"albertlarson\"\n",
    "password=\"Andes27Hearts34!\"\n",
    "session = SessionWithHeaderRedirection(username, password)\n",
    "\n",
    "\n",
    "\n",
    "# ***********************\n",
    "# Loop through Files\n",
    "# ***********************\n",
    "destination_files = 'ncfiles/*.nc'\n",
    "y = [eeks[8:] for eeks in glob.glob(destination_files)]\n",
    "not_dled = []\n",
    "dled = []\n",
    "for x in lis:\n",
    "    if str(x[79:]) not in y:\n",
    "        not_dled.append(x)\n",
    "    if str(x[79:])  in y:\n",
    "        dled.append(x)\n",
    "\n",
    "\n",
    "# print(f'dled: \\t \\n \\t')\n",
    "# for x in dled:\n",
    "#     print('\\t',x,'\\t')\n",
    "# print(f'not dled: \\t \\n \\t')\n",
    "# for x in not_dled:\n",
    "#     print('\\t',x,'\\t')\n",
    "\n",
    "\n",
    "while True:\n",
    "    for idx,i in enumerate(not_dled):\n",
    "        try:\n",
    "\n",
    "            # submit the request using the session\n",
    "            response = session.get(i, stream=True)\n",
    "            print(response.status_code)\n",
    "            # raise an exception in case of http errors\n",
    "            response.raise_for_status()\n",
    "            # save the file\n",
    "            with open(f'ncfiles/{i[79:]}', 'wb') as fd:\n",
    "                for data in response:\n",
    "                    fd.write(data)\n",
    "            fd.close()\n",
    "        except requests.exceptions.HTTPError as e:\n",
    "            # handle any errors here\n",
    "            print('error',e)\n",
    "    \n",
    "    dled = []        \n",
    "    not_dled = []\n",
    "    for x in lis:\n",
    "        y = [eeks[8:] for eeks in glob.glob(destination_files)]\n",
    "        if str(x[79:]) not in y:\n",
    "            not_dled.append(x)\n",
    "        if str(x[79:]) in y:\n",
    "            dled.append(x)\n",
    "    print(f'dled: \\t \\n \\t')\n",
    "    for x in dled:\n",
    "        print('\\t',x,'\\t')\n",
    "    print(f'not dled: \\t \\n \\t')\n",
    "    for x in not_dled:\n",
    "        print('\\t',x,'\\t')\n",
    "\n",
    "            \n",
    "    if len(not_dled) == 0:\n",
    "        import sys\n",
    "        sys.exit('no more left to download')"
   ]
  },
  {
   "cell_type": "code",
   "execution_count": null,
   "id": "64daa006-29bb-44da-b5b1-dab9c98c47c1",
   "metadata": {},
   "outputs": [],
   "source": [
    "np.save"
   ]
  },
  {
   "cell_type": "code",
   "execution_count": 6,
   "id": "465b6bec-05d3-430f-86fd-b103167c5429",
   "metadata": {},
   "outputs": [],
   "source": [
    "x = glob.glob('ncfiles/*.nc')"
   ]
  },
  {
   "cell_type": "code",
   "execution_count": 12,
   "id": "d14c205e-7243-4963-a8fb-24b928d67dd3",
   "metadata": {},
   "outputs": [
    {
     "data": {
      "text/plain": [
       "'2015'"
      ]
     },
     "execution_count": 12,
     "metadata": {},
     "output_type": "execute_result"
    }
   ],
   "source": [
    "x[0][25:29]"
   ]
  },
  {
   "cell_type": "code",
   "execution_count": 18,
   "id": "326cdd55-b329-43d3-aa20-8de9f6bfa3af",
   "metadata": {},
   "outputs": [
    {
     "name": "stdout",
     "output_type": "stream",
     "text": [
      "num 2015: 8760 \n",
      "num 2016: 8784 \n",
      "num 2017: 8760 \n",
      "num 2018: 8760 \n",
      "num 2019: 8760 \n",
      "num 2020: 8784 \n",
      "num 2021: 8760 \n",
      "num 2022: 1440 \n",
      "\n"
     ]
    }
   ],
   "source": [
    "x2015 = [y for y in x if y[25:29] == '2015']\n",
    "x2016 = [y for y in x if y[25:29] == '2016']\n",
    "x2017 = [y for y in x if y[25:29] == '2017']\n",
    "x2018 = [y for y in x if y[25:29] == '2018']\n",
    "x2019 = [y for y in x if y[25:29] == '2019']\n",
    "x2020 = [y for y in x if y[25:29] == '2020']\n",
    "x2021 = [y for y in x if y[25:29] == '2021']\n",
    "x2022 = [y for y in x if y[25:29] == '2022']\n",
    "\n",
    "print(f\"num 2015: {len(x2015)} \\n\"\n",
    "    f\"num 2016: {len(x2016)} \\n\"\n",
    "    f\"num 2017: {len(x2017)} \\n\"\n",
    "    f\"num 2018: {len(x2018)} \\n\"\n",
    "    f\"num 2019: {len(x2019)} \\n\"\n",
    "    f\"num 2020: {len(x2020)} \\n\"\n",
    "    f\"num 2021: {len(x2021)} \\n\"\n",
    "    f\"num 2022: {len(x2022)} \\n\")"
   ]
  },
  {
   "cell_type": "code",
   "execution_count": 16,
   "id": "aab36b7b-ed90-405d-a4db-be0696381e06",
   "metadata": {},
   "outputs": [
    {
     "data": {
      "text/plain": [
       "8760"
      ]
     },
     "execution_count": 16,
     "metadata": {},
     "output_type": "execute_result"
    }
   ],
   "source": [
    "len(x2015)"
   ]
  },
  {
   "cell_type": "code",
   "execution_count": 19,
   "id": "d4b09518-bcae-438c-8094-6c30be6a9185",
   "metadata": {},
   "outputs": [
    {
     "name": "stdout",
     "output_type": "stream",
     "text": [
      "[2015 2016 2017 2018 2019 2020 2021 2022]\n"
     ]
    }
   ],
   "source": [
    "year = np.arange(2015,2023,1)\n",
    "print(year)"
   ]
  },
  {
   "cell_type": "code",
   "execution_count": 20,
   "id": "2b685de3-a891-4d5b-aed2-bcc56e50ca98",
   "metadata": {},
   "outputs": [],
   "source": [
    "for x in year:\n",
    "    os.mkdir(f'nc_sorted/{x}')"
   ]
  },
  {
   "cell_type": "code",
   "execution_count": 25,
   "id": "757f42eb-6f88-4a75-9dea-2e6d5d4de727",
   "metadata": {},
   "outputs": [],
   "source": [
    "for x in x2015[1:]:\n",
    "    shutil.move(x,'nc_sorted/2015/')"
   ]
  },
  {
   "cell_type": "code",
   "execution_count": 27,
   "id": "de308561-f6aa-45bd-86de-de0dad2b0b55",
   "metadata": {},
   "outputs": [
    {
     "data": {
      "text/plain": [
       "8760"
      ]
     },
     "execution_count": 27,
     "metadata": {},
     "output_type": "execute_result"
    }
   ],
   "source": [
    "len(glob.glob('nc_sorted/2015/*.nc'))"
   ]
  },
  {
   "cell_type": "code",
   "execution_count": 28,
   "id": "521ba8f6-aef9-4344-a315-75e81ecef29a",
   "metadata": {},
   "outputs": [],
   "source": [
    "for x in x2016:\n",
    "    shutil.move(x,'nc_sorted/2016/')\n",
    "for x in x2017:\n",
    "    shutil.move(x,'nc_sorted/2017/')\n",
    "for x in x2018:\n",
    "    shutil.move(x,'nc_sorted/2018/')\n",
    "for x in x2019:\n",
    "    shutil.move(x,'nc_sorted/2019/')\n",
    "for x in x2020:\n",
    "    shutil.move(x,'nc_sorted/2020/')\n",
    "for x in x2021:\n",
    "    shutil.move(x,'nc_sorted/2021/')\n",
    "for x in x2022:\n",
    "    shutil.move(x,'nc_sorted/2022/')"
   ]
  },
  {
   "cell_type": "code",
   "execution_count": 30,
   "id": "69281906-f3d9-44d8-b6e0-842c74b9269e",
   "metadata": {},
   "outputs": [
    {
     "data": {
      "text/plain": [
       "8760"
      ]
     },
     "execution_count": 30,
     "metadata": {},
     "output_type": "execute_result"
    }
   ],
   "source": [
    "x = glob.glob('nc_sorted/2015/*.nc')\n",
    "len(x)"
   ]
  },
  {
   "cell_type": "code",
   "execution_count": null,
   "id": "2eddd020-138a-48e7-90fa-26740e815b0d",
   "metadata": {},
   "outputs": [],
   "source": [
    "x[0]"
   ]
  },
  {
   "cell_type": "code",
   "execution_count": 38,
   "id": "11905927-8305-429b-ae74-f0661478a718",
   "metadata": {},
   "outputs": [],
   "source": [
    "days2015 = [x[36:40] for x in glob.glob('nc_sorted/2015/*.nc')]"
   ]
  },
  {
   "cell_type": "code",
   "execution_count": 40,
   "id": "ccc6b17b-28fc-4206-bf89-ad873897ab88",
   "metadata": {},
   "outputs": [],
   "source": []
  },
  {
   "cell_type": "code",
   "execution_count": 41,
   "id": "b863d570-6caa-40b3-a1ed-21292ced5702",
   "metadata": {},
   "outputs": [],
   "source": [
    "days2015set = list(dict.fromkeys(days2015))"
   ]
  },
  {
   "cell_type": "code",
   "execution_count": 42,
   "id": "586a6d56-8769-423d-a60e-b327bb7f463d",
   "metadata": {},
   "outputs": [
    {
     "data": {
      "text/plain": [
       "365"
      ]
     },
     "execution_count": 42,
     "metadata": {},
     "output_type": "execute_result"
    }
   ],
   "source": [
    "len(days2015set)"
   ]
  },
  {
   "cell_type": "code",
   "execution_count": 43,
   "id": "13115832-26d2-495e-9b80-434338a25b34",
   "metadata": {},
   "outputs": [],
   "source": [
    "for x in year:\n",
    "    os.mkdir(f'nc_sorted_dayfolders/{x}')"
   ]
  },
  {
   "cell_type": "code",
   "execution_count": 44,
   "id": "8691e55c-0cc6-4f7e-81ab-d7c98e95b756",
   "metadata": {},
   "outputs": [],
   "source": [
    "for x in days2015set:\n",
    "    os.mkdir(f'nc_sorted_dayfolders/2015/{x}')"
   ]
  },
  {
   "cell_type": "code",
   "execution_count": 45,
   "id": "1f29aa34-8498-47cf-bfaa-eb84b18b5e4a",
   "metadata": {},
   "outputs": [],
   "source": [
    "for idx,x in enumerate(sorted(glob.glob('nc_sorted/2015/*.nc'))):\n",
    "    shutil.move(x,f'nc_sorted_dayfolders/2015/{days2015[idx]}/')"
   ]
  },
  {
   "cell_type": "code",
   "execution_count": 46,
   "id": "8966bc0d-9f42-4e83-a249-711adad4fcfd",
   "metadata": {},
   "outputs": [],
   "source": [
    "days2016 = [x[36:40] for x in glob.glob('nc_sorted/2016/*.nc')]\n",
    "days2016set = list(dict.fromkeys(days2016))\n",
    "for x in days2016set:\n",
    "    os.mkdir(f'nc_sorted_dayfolders/2016/{x}')\n",
    "\n",
    "for idx,x in enumerate(sorted(glob.glob('nc_sorted/2016/*.nc'))):\n",
    "    shutil.move(x,f'nc_sorted_dayfolders/2016/{days2016[idx]}/')"
   ]
  },
  {
   "cell_type": "code",
   "execution_count": 48,
   "id": "00c3ea45-98b7-4d7a-a02c-3e61a2369271",
   "metadata": {},
   "outputs": [],
   "source": [
    "days2017 = [x[36:40] for x in glob.glob('nc_sorted/2017/*.nc')]\n",
    "days2017set = list(dict.fromkeys(days2017))\n",
    "for x in days2017set:\n",
    "    os.mkdir(f'nc_sorted_dayfolders/2017/{x}')\n",
    "\n",
    "for idx,x in enumerate(sorted(glob.glob('nc_sorted/2017/*.nc'))):\n",
    "    shutil.move(x,f'nc_sorted_dayfolders/2017/{days2017[idx]}/')\n",
    "    \n",
    "days2018 = [x[36:40] for x in glob.glob('nc_sorted/2018/*.nc')]\n",
    "days2018set = list(dict.fromkeys(days2018))\n",
    "for x in days2018set:\n",
    "    os.mkdir(f'nc_sorted_dayfolders/2018/{x}')\n",
    "\n",
    "for idx,x in enumerate(sorted(glob.glob('nc_sorted/2018/*.nc'))):\n",
    "    shutil.move(x,f'nc_sorted_dayfolders/2018/{days2018[idx]}/')\n",
    "    \n",
    "days2019 = [x[36:40] for x in glob.glob('nc_sorted/2019/*.nc')]\n",
    "days2019set = list(dict.fromkeys(days2019))\n",
    "for x in days2019set:\n",
    "    os.mkdir(f'nc_sorted_dayfolders/2019/{x}')\n",
    "\n",
    "for idx,x in enumerate(sorted(glob.glob('nc_sorted/2019/*.nc'))):\n",
    "    shutil.move(x,f'nc_sorted_dayfolders/2019/{days2019[idx]}/')\n",
    "\n",
    "days2020 = [x[36:40] for x in glob.glob('nc_sorted/2020/*.nc')]\n",
    "days2020set = list(dict.fromkeys(days2020))\n",
    "for x in days2020set:\n",
    "    os.mkdir(f'nc_sorted_dayfolders/2020/{x}')\n",
    "\n",
    "for idx,x in enumerate(sorted(glob.glob('nc_sorted/2020/*.nc'))):\n",
    "    shutil.move(x,f'nc_sorted_dayfolders/2020/{days2020[idx]}/')\n",
    "\n",
    "days2021 = [x[36:40] for x in glob.glob('nc_sorted/2021/*.nc')]\n",
    "days2021set = list(dict.fromkeys(days2021))\n",
    "for x in days2021set:\n",
    "    os.mkdir(f'nc_sorted_dayfolders/2021/{x}')\n",
    "\n",
    "for idx,x in enumerate(sorted(glob.glob('nc_sorted/2021/*.nc'))):\n",
    "    shutil.move(x,f'nc_sorted_dayfolders/2021/{days2021[idx]}/')\n",
    "    \n",
    "\n",
    "days2022 = [x[36:40] for x in glob.glob('nc_sorted/2022/*.nc')]\n",
    "days2022set = list(dict.fromkeys(days2022))\n",
    "for x in days2022set:\n",
    "    os.mkdir(f'nc_sorted_dayfolders/2022/{x}')\n",
    "\n",
    "for idx,x in enumerate(sorted(glob.glob('nc_sorted/2022/*.nc'))):\n",
    "    shutil.move(x,f'nc_sorted_dayfolders/2022/{days2022[idx]}/')"
   ]
  },
  {
   "cell_type": "code",
   "execution_count": 49,
   "id": "d58d69fb-a1ac-4540-9207-654d93a82cee",
   "metadata": {},
   "outputs": [
    {
     "data": {
      "text/plain": [
       "'/work/albertl_uri_edu/fluxtoflow/nldas'"
      ]
     },
     "execution_count": 49,
     "metadata": {},
     "output_type": "execute_result"
    }
   ],
   "source": [
    "pwd"
   ]
  },
  {
   "cell_type": "code",
   "execution_count": 53,
   "id": "1d39c4ca-a190-493e-9d2d-5831604c6a0d",
   "metadata": {},
   "outputs": [
    {
     "data": {
      "text/plain": [
       "['nc_sorted/2015/0101',\n",
       " 'nc_sorted/2015/0102',\n",
       " 'nc_sorted/2015/0103',\n",
       " 'nc_sorted/2015/0104',\n",
       " 'nc_sorted/2015/0105',\n",
       " 'nc_sorted/2015/0106',\n",
       " 'nc_sorted/2015/0107',\n",
       " 'nc_sorted/2015/0108',\n",
       " 'nc_sorted/2015/0109',\n",
       " 'nc_sorted/2015/0110',\n",
       " 'nc_sorted/2015/0111',\n",
       " 'nc_sorted/2015/0112',\n",
       " 'nc_sorted/2015/0113',\n",
       " 'nc_sorted/2015/0114',\n",
       " 'nc_sorted/2015/0115',\n",
       " 'nc_sorted/2015/0116',\n",
       " 'nc_sorted/2015/0117',\n",
       " 'nc_sorted/2015/0118',\n",
       " 'nc_sorted/2015/0119',\n",
       " 'nc_sorted/2015/0120',\n",
       " 'nc_sorted/2015/0121',\n",
       " 'nc_sorted/2015/0122',\n",
       " 'nc_sorted/2015/0123',\n",
       " 'nc_sorted/2015/0124',\n",
       " 'nc_sorted/2015/0125',\n",
       " 'nc_sorted/2015/0126',\n",
       " 'nc_sorted/2015/0127',\n",
       " 'nc_sorted/2015/0128',\n",
       " 'nc_sorted/2015/0129',\n",
       " 'nc_sorted/2015/0130',\n",
       " 'nc_sorted/2015/0131',\n",
       " 'nc_sorted/2015/0201',\n",
       " 'nc_sorted/2015/0202',\n",
       " 'nc_sorted/2015/0203',\n",
       " 'nc_sorted/2015/0204',\n",
       " 'nc_sorted/2015/0205',\n",
       " 'nc_sorted/2015/0206',\n",
       " 'nc_sorted/2015/0207',\n",
       " 'nc_sorted/2015/0208',\n",
       " 'nc_sorted/2015/0209',\n",
       " 'nc_sorted/2015/0210',\n",
       " 'nc_sorted/2015/0211',\n",
       " 'nc_sorted/2015/0212',\n",
       " 'nc_sorted/2015/0213',\n",
       " 'nc_sorted/2015/0214',\n",
       " 'nc_sorted/2015/0215',\n",
       " 'nc_sorted/2015/0216',\n",
       " 'nc_sorted/2015/0217',\n",
       " 'nc_sorted/2015/0218',\n",
       " 'nc_sorted/2015/0219',\n",
       " 'nc_sorted/2015/0220',\n",
       " 'nc_sorted/2015/0221',\n",
       " 'nc_sorted/2015/0222',\n",
       " 'nc_sorted/2015/0223',\n",
       " 'nc_sorted/2015/0224',\n",
       " 'nc_sorted/2015/0225',\n",
       " 'nc_sorted/2015/0226',\n",
       " 'nc_sorted/2015/0227',\n",
       " 'nc_sorted/2015/0228',\n",
       " 'nc_sorted/2015/0301',\n",
       " 'nc_sorted/2015/0302',\n",
       " 'nc_sorted/2015/0303',\n",
       " 'nc_sorted/2015/0304',\n",
       " 'nc_sorted/2015/0305',\n",
       " 'nc_sorted/2015/0306',\n",
       " 'nc_sorted/2015/0307',\n",
       " 'nc_sorted/2015/0308',\n",
       " 'nc_sorted/2015/0309',\n",
       " 'nc_sorted/2015/0310',\n",
       " 'nc_sorted/2015/0311',\n",
       " 'nc_sorted/2015/0312',\n",
       " 'nc_sorted/2015/0313',\n",
       " 'nc_sorted/2015/0314',\n",
       " 'nc_sorted/2015/0315',\n",
       " 'nc_sorted/2015/0316',\n",
       " 'nc_sorted/2015/0317',\n",
       " 'nc_sorted/2015/0318',\n",
       " 'nc_sorted/2015/0319',\n",
       " 'nc_sorted/2015/0320',\n",
       " 'nc_sorted/2015/0321',\n",
       " 'nc_sorted/2015/0322',\n",
       " 'nc_sorted/2015/0323',\n",
       " 'nc_sorted/2015/0324',\n",
       " 'nc_sorted/2015/0325',\n",
       " 'nc_sorted/2015/0326',\n",
       " 'nc_sorted/2015/0327',\n",
       " 'nc_sorted/2015/0328',\n",
       " 'nc_sorted/2015/0329',\n",
       " 'nc_sorted/2015/0330',\n",
       " 'nc_sorted/2015/0331',\n",
       " 'nc_sorted/2015/0401',\n",
       " 'nc_sorted/2015/0402',\n",
       " 'nc_sorted/2015/0403',\n",
       " 'nc_sorted/2015/0404',\n",
       " 'nc_sorted/2015/0405',\n",
       " 'nc_sorted/2015/0406',\n",
       " 'nc_sorted/2015/0407',\n",
       " 'nc_sorted/2015/0408',\n",
       " 'nc_sorted/2015/0409',\n",
       " 'nc_sorted/2015/0410',\n",
       " 'nc_sorted/2015/0411',\n",
       " 'nc_sorted/2015/0412',\n",
       " 'nc_sorted/2015/0413',\n",
       " 'nc_sorted/2015/0414',\n",
       " 'nc_sorted/2015/0415',\n",
       " 'nc_sorted/2015/0416',\n",
       " 'nc_sorted/2015/0417',\n",
       " 'nc_sorted/2015/0418',\n",
       " 'nc_sorted/2015/0419',\n",
       " 'nc_sorted/2015/0420',\n",
       " 'nc_sorted/2015/0421',\n",
       " 'nc_sorted/2015/0422',\n",
       " 'nc_sorted/2015/0423',\n",
       " 'nc_sorted/2015/0424',\n",
       " 'nc_sorted/2015/0425',\n",
       " 'nc_sorted/2015/0426',\n",
       " 'nc_sorted/2015/0427',\n",
       " 'nc_sorted/2015/0428',\n",
       " 'nc_sorted/2015/0429',\n",
       " 'nc_sorted/2015/0430',\n",
       " 'nc_sorted/2015/0501',\n",
       " 'nc_sorted/2015/0502',\n",
       " 'nc_sorted/2015/0503',\n",
       " 'nc_sorted/2015/0504',\n",
       " 'nc_sorted/2015/0505',\n",
       " 'nc_sorted/2015/0506',\n",
       " 'nc_sorted/2015/0507',\n",
       " 'nc_sorted/2015/0508',\n",
       " 'nc_sorted/2015/0509',\n",
       " 'nc_sorted/2015/0510',\n",
       " 'nc_sorted/2015/0511',\n",
       " 'nc_sorted/2015/0512',\n",
       " 'nc_sorted/2015/0513',\n",
       " 'nc_sorted/2015/0514',\n",
       " 'nc_sorted/2015/0515',\n",
       " 'nc_sorted/2015/0516',\n",
       " 'nc_sorted/2015/0517',\n",
       " 'nc_sorted/2015/0518',\n",
       " 'nc_sorted/2015/0519',\n",
       " 'nc_sorted/2015/0520',\n",
       " 'nc_sorted/2015/0521',\n",
       " 'nc_sorted/2015/0522',\n",
       " 'nc_sorted/2015/0523',\n",
       " 'nc_sorted/2015/0524',\n",
       " 'nc_sorted/2015/0525',\n",
       " 'nc_sorted/2015/0526',\n",
       " 'nc_sorted/2015/0527',\n",
       " 'nc_sorted/2015/0528',\n",
       " 'nc_sorted/2015/0529',\n",
       " 'nc_sorted/2015/0530',\n",
       " 'nc_sorted/2015/0531',\n",
       " 'nc_sorted/2015/0601',\n",
       " 'nc_sorted/2015/0602',\n",
       " 'nc_sorted/2015/0603',\n",
       " 'nc_sorted/2015/0604',\n",
       " 'nc_sorted/2015/0605',\n",
       " 'nc_sorted/2015/0606',\n",
       " 'nc_sorted/2015/0607',\n",
       " 'nc_sorted/2015/0608',\n",
       " 'nc_sorted/2015/0609',\n",
       " 'nc_sorted/2015/0610',\n",
       " 'nc_sorted/2015/0611',\n",
       " 'nc_sorted/2015/0612',\n",
       " 'nc_sorted/2015/0613',\n",
       " 'nc_sorted/2015/0614',\n",
       " 'nc_sorted/2015/0615',\n",
       " 'nc_sorted/2015/0616',\n",
       " 'nc_sorted/2015/0617',\n",
       " 'nc_sorted/2015/0618',\n",
       " 'nc_sorted/2015/0619',\n",
       " 'nc_sorted/2015/0620',\n",
       " 'nc_sorted/2015/0621',\n",
       " 'nc_sorted/2015/0622',\n",
       " 'nc_sorted/2015/0623',\n",
       " 'nc_sorted/2015/0624',\n",
       " 'nc_sorted/2015/0625',\n",
       " 'nc_sorted/2015/0626',\n",
       " 'nc_sorted/2015/0627',\n",
       " 'nc_sorted/2015/0628',\n",
       " 'nc_sorted/2015/0629',\n",
       " 'nc_sorted/2015/0630',\n",
       " 'nc_sorted/2015/0701',\n",
       " 'nc_sorted/2015/0702',\n",
       " 'nc_sorted/2015/0703',\n",
       " 'nc_sorted/2015/0704',\n",
       " 'nc_sorted/2015/0705',\n",
       " 'nc_sorted/2015/0706',\n",
       " 'nc_sorted/2015/0707',\n",
       " 'nc_sorted/2015/0708',\n",
       " 'nc_sorted/2015/0709',\n",
       " 'nc_sorted/2015/0710',\n",
       " 'nc_sorted/2015/0711',\n",
       " 'nc_sorted/2015/0712',\n",
       " 'nc_sorted/2015/0713',\n",
       " 'nc_sorted/2015/0714',\n",
       " 'nc_sorted/2015/0715',\n",
       " 'nc_sorted/2015/0716',\n",
       " 'nc_sorted/2015/0717',\n",
       " 'nc_sorted/2015/0718',\n",
       " 'nc_sorted/2015/0719',\n",
       " 'nc_sorted/2015/0720',\n",
       " 'nc_sorted/2015/0721',\n",
       " 'nc_sorted/2015/0722',\n",
       " 'nc_sorted/2015/0723',\n",
       " 'nc_sorted/2015/0724',\n",
       " 'nc_sorted/2015/0725',\n",
       " 'nc_sorted/2015/0726',\n",
       " 'nc_sorted/2015/0727',\n",
       " 'nc_sorted/2015/0728',\n",
       " 'nc_sorted/2015/0729',\n",
       " 'nc_sorted/2015/0730',\n",
       " 'nc_sorted/2015/0731',\n",
       " 'nc_sorted/2015/0801',\n",
       " 'nc_sorted/2015/0802',\n",
       " 'nc_sorted/2015/0803',\n",
       " 'nc_sorted/2015/0804',\n",
       " 'nc_sorted/2015/0805',\n",
       " 'nc_sorted/2015/0806',\n",
       " 'nc_sorted/2015/0807',\n",
       " 'nc_sorted/2015/0808',\n",
       " 'nc_sorted/2015/0809',\n",
       " 'nc_sorted/2015/0810',\n",
       " 'nc_sorted/2015/0811',\n",
       " 'nc_sorted/2015/0812',\n",
       " 'nc_sorted/2015/0813',\n",
       " 'nc_sorted/2015/0814',\n",
       " 'nc_sorted/2015/0815',\n",
       " 'nc_sorted/2015/0816',\n",
       " 'nc_sorted/2015/0817',\n",
       " 'nc_sorted/2015/0818',\n",
       " 'nc_sorted/2015/0819',\n",
       " 'nc_sorted/2015/0820',\n",
       " 'nc_sorted/2015/0821',\n",
       " 'nc_sorted/2015/0822',\n",
       " 'nc_sorted/2015/0823',\n",
       " 'nc_sorted/2015/0824',\n",
       " 'nc_sorted/2015/0825',\n",
       " 'nc_sorted/2015/0826',\n",
       " 'nc_sorted/2015/0827',\n",
       " 'nc_sorted/2015/0828',\n",
       " 'nc_sorted/2015/0829',\n",
       " 'nc_sorted/2015/0830',\n",
       " 'nc_sorted/2015/0831',\n",
       " 'nc_sorted/2015/0901',\n",
       " 'nc_sorted/2015/0902',\n",
       " 'nc_sorted/2015/0903',\n",
       " 'nc_sorted/2015/0904',\n",
       " 'nc_sorted/2015/0905',\n",
       " 'nc_sorted/2015/0906',\n",
       " 'nc_sorted/2015/0907',\n",
       " 'nc_sorted/2015/0908',\n",
       " 'nc_sorted/2015/0909',\n",
       " 'nc_sorted/2015/0910',\n",
       " 'nc_sorted/2015/0911',\n",
       " 'nc_sorted/2015/0912',\n",
       " 'nc_sorted/2015/0913',\n",
       " 'nc_sorted/2015/0914',\n",
       " 'nc_sorted/2015/0915',\n",
       " 'nc_sorted/2015/0916',\n",
       " 'nc_sorted/2015/0917',\n",
       " 'nc_sorted/2015/0918',\n",
       " 'nc_sorted/2015/0919',\n",
       " 'nc_sorted/2015/0920',\n",
       " 'nc_sorted/2015/0921',\n",
       " 'nc_sorted/2015/0922',\n",
       " 'nc_sorted/2015/0923',\n",
       " 'nc_sorted/2015/0924',\n",
       " 'nc_sorted/2015/0925',\n",
       " 'nc_sorted/2015/0926',\n",
       " 'nc_sorted/2015/0927',\n",
       " 'nc_sorted/2015/0928',\n",
       " 'nc_sorted/2015/0929',\n",
       " 'nc_sorted/2015/0930',\n",
       " 'nc_sorted/2015/1001',\n",
       " 'nc_sorted/2015/1002',\n",
       " 'nc_sorted/2015/1003',\n",
       " 'nc_sorted/2015/1004',\n",
       " 'nc_sorted/2015/1005',\n",
       " 'nc_sorted/2015/1006',\n",
       " 'nc_sorted/2015/1007',\n",
       " 'nc_sorted/2015/1008',\n",
       " 'nc_sorted/2015/1009',\n",
       " 'nc_sorted/2015/1010',\n",
       " 'nc_sorted/2015/1011',\n",
       " 'nc_sorted/2015/1012',\n",
       " 'nc_sorted/2015/1013',\n",
       " 'nc_sorted/2015/1014',\n",
       " 'nc_sorted/2015/1015',\n",
       " 'nc_sorted/2015/1016',\n",
       " 'nc_sorted/2015/1017',\n",
       " 'nc_sorted/2015/1018',\n",
       " 'nc_sorted/2015/1019',\n",
       " 'nc_sorted/2015/1020',\n",
       " 'nc_sorted/2015/1021',\n",
       " 'nc_sorted/2015/1022',\n",
       " 'nc_sorted/2015/1023',\n",
       " 'nc_sorted/2015/1024',\n",
       " 'nc_sorted/2015/1025',\n",
       " 'nc_sorted/2015/1026',\n",
       " 'nc_sorted/2015/1027',\n",
       " 'nc_sorted/2015/1028',\n",
       " 'nc_sorted/2015/1029',\n",
       " 'nc_sorted/2015/1030',\n",
       " 'nc_sorted/2015/1031',\n",
       " 'nc_sorted/2015/1101',\n",
       " 'nc_sorted/2015/1102',\n",
       " 'nc_sorted/2015/1103',\n",
       " 'nc_sorted/2015/1104',\n",
       " 'nc_sorted/2015/1105',\n",
       " 'nc_sorted/2015/1106',\n",
       " 'nc_sorted/2015/1107',\n",
       " 'nc_sorted/2015/1108',\n",
       " 'nc_sorted/2015/1109',\n",
       " 'nc_sorted/2015/1110',\n",
       " 'nc_sorted/2015/1111',\n",
       " 'nc_sorted/2015/1112',\n",
       " 'nc_sorted/2015/1113',\n",
       " 'nc_sorted/2015/1114',\n",
       " 'nc_sorted/2015/1115',\n",
       " 'nc_sorted/2015/1116',\n",
       " 'nc_sorted/2015/1117',\n",
       " 'nc_sorted/2015/1118',\n",
       " 'nc_sorted/2015/1119',\n",
       " 'nc_sorted/2015/1120',\n",
       " 'nc_sorted/2015/1121',\n",
       " 'nc_sorted/2015/1122',\n",
       " 'nc_sorted/2015/1123',\n",
       " 'nc_sorted/2015/1124',\n",
       " 'nc_sorted/2015/1125',\n",
       " 'nc_sorted/2015/1126',\n",
       " 'nc_sorted/2015/1127',\n",
       " 'nc_sorted/2015/1128',\n",
       " 'nc_sorted/2015/1129',\n",
       " 'nc_sorted/2015/1130',\n",
       " 'nc_sorted/2015/1201',\n",
       " 'nc_sorted/2015/1202',\n",
       " 'nc_sorted/2015/1203',\n",
       " 'nc_sorted/2015/1204',\n",
       " 'nc_sorted/2015/1205',\n",
       " 'nc_sorted/2015/1206',\n",
       " 'nc_sorted/2015/1207',\n",
       " 'nc_sorted/2015/1208',\n",
       " 'nc_sorted/2015/1209',\n",
       " 'nc_sorted/2015/1210',\n",
       " 'nc_sorted/2015/1211',\n",
       " 'nc_sorted/2015/1212',\n",
       " 'nc_sorted/2015/1213',\n",
       " 'nc_sorted/2015/1214',\n",
       " 'nc_sorted/2015/1215',\n",
       " 'nc_sorted/2015/1216',\n",
       " 'nc_sorted/2015/1217',\n",
       " 'nc_sorted/2015/1218',\n",
       " 'nc_sorted/2015/1219',\n",
       " 'nc_sorted/2015/1220',\n",
       " 'nc_sorted/2015/1221',\n",
       " 'nc_sorted/2015/1222',\n",
       " 'nc_sorted/2015/1223',\n",
       " 'nc_sorted/2015/1224',\n",
       " 'nc_sorted/2015/1225',\n",
       " 'nc_sorted/2015/1226',\n",
       " 'nc_sorted/2015/1227',\n",
       " 'nc_sorted/2015/1228',\n",
       " 'nc_sorted/2015/1229',\n",
       " 'nc_sorted/2015/1230',\n",
       " 'nc_sorted/2015/1231']"
      ]
     },
     "execution_count": 53,
     "metadata": {},
     "output_type": "execute_result"
    }
   ],
   "source": [
    "glob.glob('nc_sorted/2015/*')"
   ]
  },
  {
   "cell_type": "code",
   "execution_count": null,
   "id": "960de905-7dba-49fa-b9e0-0c2d85c2ffb7",
   "metadata": {},
   "outputs": [],
   "source": []
  }
 ],
 "metadata": {
  "kernelspec": {
   "display_name": "Python (.conda-sm)",
   "language": "python",
   "name": "conda-env-.conda-sm-py"
  },
  "language_info": {
   "codemirror_mode": {
    "name": "ipython",
    "version": 3
   },
   "file_extension": ".py",
   "mimetype": "text/x-python",
   "name": "python",
   "nbconvert_exporter": "python",
   "pygments_lexer": "ipython3",
   "version": "3.9.12"
  }
 },
 "nbformat": 4,
 "nbformat_minor": 5
}
